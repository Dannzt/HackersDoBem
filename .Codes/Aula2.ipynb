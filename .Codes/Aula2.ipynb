{
  "nbformat": 4,
  "nbformat_minor": 0,
  "metadata": {
    "colab": {
      "provenance": [],
      "authorship_tag": "ABX9TyMcwgMKZHTGj5p6oZNiwMkq"
    },
    "kernelspec": {
      "name": "python3",
      "display_name": "Python 3"
    },
    "language_info": {
      "name": "python"
    }
  },
  "cells": [
    {
      "cell_type": "markdown",
      "source": [
        "# **Variaveis**\n"
      ],
      "metadata": {
        "id": "8dbzk1YzYACU"
      }
    },
    {
      "cell_type": "code",
      "execution_count": null,
      "metadata": {
        "id": "Do485M1uQRu7"
      },
      "outputs": [],
      "source": [
        "nome = input (\"Digite o seu nome: \\n\");\n",
        "print(nome)"
      ]
    },
    {
      "cell_type": "code",
      "source": [
        "#codigo corrigido\n",
        "frase = input(\"Digite uma frase: \")\n",
        "\n",
        "frase = \"Um texto qualquer!\"\n",
        "\n",
        "try:\n",
        "  del print\n",
        "except NameError:\n",
        "  pass\n",
        "\n",
        "print(frase)"
      ],
      "metadata": {
        "colab": {
          "base_uri": "https://localhost:8080/"
        },
        "id": "CWmVYjauQ3sV",
        "outputId": "8bf0ac72-e456-4f73-a227-5e0e03e33c5b"
      },
      "execution_count": 13,
      "outputs": [
        {
          "output_type": "stream",
          "name": "stdout",
          "text": [
            "Digite uma frase: flamwneo\n",
            "Um texto qualquer!\n"
          ]
        }
      ]
    },
    {
      "cell_type": "code",
      "source": [
        "idade = 20\n",
        "type(idade)\n"
      ],
      "metadata": {
        "colab": {
          "base_uri": "https://localhost:8080/"
        },
        "id": "w2QFuHD_UriK",
        "outputId": "b7c7ad6a-5a98-4dc0-a5fe-58f61293f540"
      },
      "execution_count": 17,
      "outputs": [
        {
          "output_type": "execute_result",
          "data": {
            "text/plain": [
              "int"
            ]
          },
          "metadata": {},
          "execution_count": 17
        }
      ]
    },
    {
      "cell_type": "code",
      "source": [
        "idade = \"20\"\n",
        "type(idade)\n",
        "#com as aspas duplas ele identifica como um texto/string"
      ],
      "metadata": {
        "colab": {
          "base_uri": "https://localhost:8080/"
        },
        "id": "NyfiHkzeVPQ7",
        "outputId": "08b96723-5a26-46d5-c033-37255490e469"
      },
      "execution_count": 19,
      "outputs": [
        {
          "output_type": "execute_result",
          "data": {
            "text/plain": [
              "str"
            ]
          },
          "metadata": {},
          "execution_count": 19
        }
      ]
    },
    {
      "cell_type": "code",
      "source": [
        "altura = 1.80\n",
        "type(altura)\n",
        "#salva como float pois tem uma virgula"
      ],
      "metadata": {
        "colab": {
          "base_uri": "https://localhost:8080/"
        },
        "id": "agYtUa_2VeM7",
        "outputId": "fefceebd-cf62-465a-d807-32eb6e3fc4c1"
      },
      "execution_count": 20,
      "outputs": [
        {
          "output_type": "execute_result",
          "data": {
            "text/plain": [
              "float"
            ]
          },
          "metadata": {},
          "execution_count": 20
        }
      ]
    },
    {
      "cell_type": "code",
      "source": [
        "altura = float(\"1.82\")\n",
        "type(altura)\n",
        "#tambem é possivel declarar uma viarivel dentro da linha do codigo, onde mesmo o numero 1.82 com aspas (uma string) pode se tornar um float ou um int."
      ],
      "metadata": {
        "colab": {
          "base_uri": "https://localhost:8080/"
        },
        "id": "guFsj_ZNVm9C",
        "outputId": "3d635ad0-01f0-4ade-8fa2-edf6dfa32614"
      },
      "execution_count": 24,
      "outputs": [
        {
          "output_type": "execute_result",
          "data": {
            "text/plain": [
              "float"
            ]
          },
          "metadata": {},
          "execution_count": 24
        }
      ]
    },
    {
      "cell_type": "code",
      "source": [
        "print(\"Sua idade: \",idade, \" e Sua Algura: \",altura)"
      ],
      "metadata": {
        "colab": {
          "base_uri": "https://localhost:8080/"
        },
        "id": "Ap_ZDwU5V4ww",
        "outputId": "27e4f0fd-1500-45d5-a151-f80ac5f50de9"
      },
      "execution_count": 38,
      "outputs": [
        {
          "output_type": "stream",
          "name": "stdout",
          "text": [
            "Sua idade:  20  e Sua Algura:  1.82\n"
          ]
        }
      ]
    },
    {
      "cell_type": "code",
      "source": [
        "idade  = int(20.8)\n",
        "print(idade)"
      ],
      "metadata": {
        "colab": {
          "base_uri": "https://localhost:8080/"
        },
        "id": "4yt1e5UmWZMC",
        "outputId": "2b4ced22-0a8f-421e-f505-a2e449c827e3"
      },
      "execution_count": 32,
      "outputs": [
        {
          "output_type": "stream",
          "name": "stdout",
          "text": [
            "20\n"
          ]
        }
      ]
    },
    {
      "cell_type": "code",
      "source": [
        "texto = str(10)\n",
        "type(texto)\n",
        "#mesmo sentido acima, é possivel modificar o tipo da variavel do dado declarando o tipo na frente."
      ],
      "metadata": {
        "colab": {
          "base_uri": "https://localhost:8080/"
        },
        "id": "X9ZnfG4pXA8x",
        "outputId": "93f370f4-4cc3-45f7-cbc7-e984a1e0d1ff"
      },
      "execution_count": 33,
      "outputs": [
        {
          "output_type": "execute_result",
          "data": {
            "text/plain": [
              "str"
            ]
          },
          "metadata": {},
          "execution_count": 33
        }
      ]
    },
    {
      "cell_type": "code",
      "source": [
        "teste = True\n",
        "type(teste)"
      ],
      "metadata": {
        "colab": {
          "base_uri": "https://localhost:8080/"
        },
        "id": "eTxMNH_2XUWS",
        "outputId": "c0103e6c-93ca-4c6f-c076-7cde59b9dd6d"
      },
      "execution_count": 34,
      "outputs": [
        {
          "output_type": "execute_result",
          "data": {
            "text/plain": [
              "bool"
            ]
          },
          "metadata": {},
          "execution_count": 34
        }
      ]
    },
    {
      "cell_type": "markdown",
      "source": [
        "#Operadores Matemáticos"
      ],
      "metadata": {
        "id": "3GzckuvEX-hE"
      }
    },
    {
      "cell_type": "code",
      "source": [
        "5+5\n"
      ],
      "metadata": {
        "colab": {
          "base_uri": "https://localhost:8080/"
        },
        "id": "Wrr23UsIX8yy",
        "outputId": "2709847a-7178-4513-e02b-9921b10e3c2c"
      },
      "execution_count": 35,
      "outputs": [
        {
          "output_type": "execute_result",
          "data": {
            "text/plain": [
              "10"
            ]
          },
          "metadata": {},
          "execution_count": 35
        }
      ]
    },
    {
      "cell_type": "code",
      "source": [
        "3+4\n",
        "#eutorevoltado com C"
      ],
      "metadata": {
        "colab": {
          "base_uri": "https://localhost:8080/"
        },
        "id": "gazRFE-WZVvq",
        "outputId": "9da6acea-361f-478f-eb2d-affe9bbb645d"
      },
      "execution_count": 36,
      "outputs": [
        {
          "output_type": "execute_result",
          "data": {
            "text/plain": [
              "7"
            ]
          },
          "metadata": {},
          "execution_count": 36
        }
      ]
    },
    {
      "cell_type": "code",
      "source": [
        "from re import I\n",
        "#calculadora IMC\n",
        "altura = input(\"Digite a sua altura: \")\n",
        "peso = input(\"Digite o seu peso: \")\n",
        "idade = input(\"Digite a sua idade: \")\n",
        "\n",
        "altura = float(altura)\n",
        "peso = float(peso)\n",
        "idade = int(idade)\n",
        "\n",
        "imc = peso / (altura * altura)\n",
        "\n",
        "print(\"Seu IMC é: \", imc)"
      ],
      "metadata": {
        "colab": {
          "base_uri": "https://localhost:8080/"
        },
        "id": "at2Zj2u8Z2bi",
        "outputId": "7c104d68-e814-4847-ec7e-dde581764e31"
      },
      "execution_count": 46,
      "outputs": [
        {
          "output_type": "stream",
          "name": "stdout",
          "text": [
            "Digite a sua altura: 1.80\n",
            "Digite o seu peso: 96\n",
            "Digite a sua idade: 22\n",
            "Seu IMC é:  29.629629629629626\n"
          ]
        }
      ]
    },
    {
      "cell_type": "code",
      "source": [
        "#calculadora IMC\n",
        "altura = float(input(\"Digite a sua altura: \"))\n",
        "peso = float(input(\"Digite o seu peso: \"))\n",
        "idade = int(input(\"Digite a sua idade: \"))\n",
        "#tipos de variaveis já declaradas no pedido de input para deixar mais limpo\n",
        "\n",
        "imc = peso / (altura * altura)\n",
        "\n",
        "print(F\"Seu IMC é: {imc:.2f} e a sua idade é: {idade}\")\n",
        "#"
      ],
      "metadata": {
        "colab": {
          "base_uri": "https://localhost:8080/"
        },
        "id": "nEGoacsveGKF",
        "outputId": "6dea6c05-5d05-4ef8-fb99-3f4129df56c8"
      },
      "execution_count": 47,
      "outputs": [
        {
          "output_type": "stream",
          "name": "stdout",
          "text": [
            "Digite a sua altura: 1.80\n",
            "Digite o seu peso: 96\n",
            "Digite a sua idade: 22\n",
            "Seu IMC é: 29.63 e a sua idade é: 22\n"
          ]
        }
      ]
    }
  ]
}